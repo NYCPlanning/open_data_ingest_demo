{
 "cells": [
  {
   "cell_type": "markdown",
   "metadata": {},
   "source": [
    "## Introducing `dcpy` to the world...\n",
    "One-stop-shop tool for data ingestion.\n",
    "\n",
    "To showcase the capabilities of `dcpy`, we will be working with **City Owned and Leased Property (COLP)** dataset from Open Data ([link](https://data.cityofnewyork.us/City-Government/City-Owned-and-Leased-Property-COLP-/fn4k-qyk2/about_data)).\n",
    "\n",
    "First, we will show a common approach to extract and do basic cleaning using `pandas`. Then we will achieve the same result using the `dcpy` tool.\n"
   ]
  },
  {
   "cell_type": "markdown",
   "metadata": {},
   "source": [
    "### Ingesting data with `pandas`"
   ]
  },
  {
   "cell_type": "code",
   "execution_count": null,
   "metadata": {},
   "outputs": [],
   "source": [
    "# code below is from oficial Open Data portal API docs.\n",
    "# link: https://dev.socrata.com/foundry/data.cityofnewyork.us/fn4k-qyk2\n",
    "\n",
    "import pandas as pd\n",
    "from sodapy import Socrata\n",
    "\n",
    "\n",
    "client = Socrata(\"data.cityofnewyork.us\", None)\n",
    "\n",
    "# Returned as JSON from API / converted to Python list of\n",
    "# dictionaries by sodapy.\n",
    "results = client.get(\"fn4k-qyk2\", limit=50000)\n",
    "\n",
    "# Convert to pandas DataFrame\n",
    "results_df = pd.DataFrame.from_records(results)\n",
    "\n",
    "# show data\n",
    "results_df.head()"
   ]
  },
  {
   "cell_type": "code",
   "execution_count": null,
   "metadata": {},
   "outputs": [],
   "source": [
    "# Explore the dataset\n",
    "print(results_df.columns)\n",
    "print(results_df.dtypes)"
   ]
  },
  {
   "cell_type": "markdown",
   "metadata": {},
   "source": [
    "### Cleaning with `pandas`\n",
    "Suppose we need to clean up the dataset a bit. It has too many columns and data types are not correct.\n",
    "\n",
    "We only need `bbl`, `agency`, and `parcel_name` columns in our future hypothetical analysis. Additionally, we need to remove duplicate records if there exist any."
   ]
  },
  {
   "cell_type": "code",
   "execution_count": null,
   "metadata": {},
   "outputs": [],
   "source": [
    "# Filter columns\n",
    "results_df = results_df[['bbl', 'agency', 'parcel_name' ]]\n",
    "\n",
    "# Remove duplicates\n",
    "results_df = results_df.drop_duplicates()\n",
    "\n",
    "results_df.head()"
   ]
  },
  {
   "cell_type": "code",
   "execution_count": null,
   "metadata": {},
   "outputs": [],
   "source": [
    "# Save file in parquet format locally\n",
    "results_df.to_parquet(\"./dcp_colp.parquet\")"
   ]
  },
  {
   "cell_type": "markdown",
   "metadata": {},
   "source": [
    "### Ingesting data with `dcpy`\n",
    "\n",
    "First, we need to create a config YAML file for **COLP** dataset in `templates/` directory as following:\n",
    "\n",
    "```yaml\n",
    "# templates/dcp_colp.yml\n",
    "\n",
    "id: dcp_colp\n",
    "\n",
    "attributes:\n",
    "  name: City Owned and Leased Property (COLP)\n",
    "\n",
    "ingestion:\n",
    "  source:\n",
    "    type: socrata\n",
    "    org: nyc\n",
    "    uid: fn4k-qyk2\n",
    "    format: geojson\n",
    "  file_format:\n",
    "    type: geojson\n",
    "\n",
    "  processing_steps:\n",
    "  - name: filter_columns\n",
    "    args:\n",
    "      columns: [ \"bbl\", \"agency\", \"parcel_name\" ]\n",
    "  - name: deduplicate\n",
    "```\n"
   ]
  },
  {
   "cell_type": "markdown",
   "metadata": {},
   "source": [
    "Now we are ready to extract, clean, and save data locally with `dcpy`: "
   ]
  },
  {
   "cell_type": "code",
   "execution_count": null,
   "metadata": {},
   "outputs": [],
   "source": [
    "%%bash\n",
    "# run CLI command\n",
    "python3 -m dcpy.cli lifecycle ingest dcp_colp --template-dir ./templates"
   ]
  }
 ],
 "metadata": {
  "kernelspec": {
   "display_name": ".venv",
   "language": "python",
   "name": "python3"
  },
  "language_info": {
   "codemirror_mode": {
    "name": "ipython",
    "version": 3
   },
   "file_extension": ".py",
   "mimetype": "text/x-python",
   "name": "python",
   "nbconvert_exporter": "python",
   "pygments_lexer": "ipython3",
   "version": "3.13.2"
  }
 },
 "nbformat": 4,
 "nbformat_minor": 2
}
